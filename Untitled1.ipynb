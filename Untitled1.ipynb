{
 "cells": [
  {
   "cell_type": "code",
   "execution_count": 1,
   "id": "75774179-8873-40df-803f-bb321d55e757",
   "metadata": {},
   "outputs": [],
   "source": [
    "import numpy as np"
   ]
  },
  {
   "cell_type": "code",
   "execution_count": 2,
   "id": "7010f5e6-c138-4994-b5b1-ff1731d61e63",
   "metadata": {},
   "outputs": [],
   "source": [
    "# 状态集合 Q\n",
    "Q = [1, 2, 3]\n",
    "\n",
    "# 观察集合 V\n",
    "V = ['红', '白']\n",
    "\n",
    "# 初始状态概率向量 pi\n",
    "pi = np.array([0.4, 0.3, 0.3])\n",
    "\n",
    "# 状态转移概率矩阵 A\n",
    "A = np.array([[0.5, 0.2, 0.3],\n",
    "              [0.5, 0.2, 0.3],\n",
    "              [0.2, 0.3, 0.5]])\n",
    "\n",
    "# 观测概率矩阵 B\n",
    "B = np.array([[0.5, 0.5],\n",
    "              [0.4, 0.6],\n",
    "              [0.7, 0.3]])"
   ]
  },
  {
   "cell_type": "code",
   "execution_count": 3,
   "id": "a02e6ad3-2d3d-48c9-a28b-7d9e9132a8a5",
   "metadata": {},
   "outputs": [],
   "source": [
    "def forward_algorithm(obs_seq):\n",
    "    \"\"\"\n",
    "    前向算法计算给定观测序列的前向概率\n",
    "    :param obs_seq: 观测序列\n",
    "    :return: 前向概率矩阵 alpha\n",
    "    \"\"\"\n",
    "    # 观测序列长度\n",
    "    T = len(obs_seq)\n",
    "\n",
    "    # 初始化前向概率矩阵 alpha\n",
    "    alpha = np.zeros((T, len(Q)))\n",
    "\n",
    "    # 计算时刻 t=0 的前向概率\n",
    "    alpha[0] = pi * B[:, V.index(obs_seq[0])]\n",
    "\n",
    "    # 递推计算时刻 t>0 的前向概率\n",
    "    for t in range(1, T):\n",
    "        for j in range(len(Q)):\n",
    "            alpha[t][j] = np.sum(alpha[t - 1] * A[:, j]) * B[j][V.index(obs_seq[t])]\n",
    "\n",
    "    return alpha"
   ]
  },
  {
   "cell_type": "code",
   "execution_count": 4,
   "id": "6400a239-fd3b-4888-9c86-da4f6068aa1b",
   "metadata": {},
   "outputs": [],
   "source": [
    "def backward_algorithm(obs_seq):\n",
    "    \"\"\"\n",
    "    后向算法计算给定观测序列的后向概率\n",
    "    :param obs_seq: 观测序列\n",
    "    :return: 后向概率矩阵 beta\n",
    "    \"\"\"\n",
    "    # 观测序列长度\n",
    "    T = len(obs_seq)\n",
    "\n",
    "    # 初始化后向概率矩阵 beta\n",
    "    beta = np.zeros((T, len(Q)))\n",
    "\n",
    "    # 计算时刻 t=T-1 的后向概率\n",
    "    beta[T - 1] = 1\n",
    "\n",
    "    # 递推计算时刻 t<T-1 的后向概率\n",
    "    for t in range(T - 2, -1, -1):\n",
    "        for i in range(len(Q)):\n",
    "            beta[t][i] = np.sum(A[i] * B[:, V.index(obs_seq[t + 1])] * beta[t + 1])\n",
    "\n",
    "    return beta"
   ]
  },
  {
   "cell_type": "code",
   "execution_count": 5,
   "id": "9d940f02-462f-4d15-b6c2-0b24042e2248",
   "metadata": {},
   "outputs": [
    {
     "name": "stdout",
     "output_type": "stream",
     "text": [
      "前向概率矩阵 alpha：\n",
      "[[0.2      0.12     0.21    ]\n",
      " [0.101    0.0762   0.0603  ]\n",
      " [0.05033  0.021412 0.058317]]\n",
      "后向概率矩阵 beta：\n",
      "[[0.2511 0.2511 0.2367]\n",
      " [0.54   0.54   0.57  ]\n",
      " [1.     1.     1.    ]]\n"
     ]
    }
   ],
   "source": [
    "# 给定观测序列\n",
    "obs_seq = ['红', '白', '红']\n",
    "\n",
    "# 计算前向概率\n",
    "alpha = forward_algorithm(obs_seq)\n",
    "print(\"前向概率矩阵 alpha：\")\n",
    "print(alpha)\n",
    "\n",
    "# 计算后向概率\n",
    "beta = backward_algorithm(obs_seq)\n",
    "print(\"后向概率矩阵 beta：\")\n",
    "print(beta)"
   ]
  },
  {
   "cell_type": "code",
   "execution_count": null,
   "id": "12146035-2a5f-43a2-ae86-697de9f49f61",
   "metadata": {},
   "outputs": [],
   "source": []
  }
 ],
 "metadata": {
  "kernelspec": {
   "display_name": "Python 3 (ipykernel)",
   "language": "python",
   "name": "python3"
  },
  "language_info": {
   "codemirror_mode": {
    "name": "ipython",
    "version": 3
   },
   "file_extension": ".py",
   "mimetype": "text/x-python",
   "name": "python",
   "nbconvert_exporter": "python",
   "pygments_lexer": "ipython3",
   "version": "3.9.18"
  }
 },
 "nbformat": 4,
 "nbformat_minor": 5
}
